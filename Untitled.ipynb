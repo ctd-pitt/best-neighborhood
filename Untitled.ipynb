{
 "cells": [
  {
   "cell_type": "markdown",
   "metadata": {},
   "source": [
    "Introduction: Introduce the project, and your approach, talk about the process of how you came up with the metric and some alternatives you may have explored.\n",
    "\n",
    "Ducks are gentle and peaceful creatures, and should have a neighborhood to stay that is the same. This notebook will use crime data from neighborhoods in Pittsburgh in order to analyze the safest place for a duck to stay. \n",
    "\n",
    "The Metric: Describe your metric, and what features are you measuring. What datasets are you using?\n",
    "\n",
    "I'm Using Pittsburgh Arrest Data from 2023. I'm measuring the number of each arrest by neighborhood. I also used census population data from 2020 (I couldn't find more recent) I'n order to get a true crime rate. \n",
    "\n",
    "The Best Neighborhood: Apply the metric from the previous section to determine the best neighborhood in Pittsburgh. Beyond just executing code, provide a narrative about why you think this is the best neighborhood. Incorporate a data visualization, perhaps to rank all of the neighborhoods or show a neighborhood’s best-ness over time. The key is to make a data driven argument.\n",
    "\n",
    "\n",
    "\n",
    "\n",
    "Conclusion: Reflect on how the data-driven determination of “best neighborhood” is the same or different from your personal favorite neighborhood. Each member of the group should write their own response to this."
   ]
  }
 ],
 "metadata": {
  "kernelspec": {
   "display_name": "Python 3",
   "language": "python",
   "name": "python3"
  },
  "language_info": {
   "codemirror_mode": {
    "name": "ipython",
    "version": 3
   },
   "file_extension": ".py",
   "mimetype": "text/x-python",
   "name": "python",
   "nbconvert_exporter": "python",
   "pygments_lexer": "ipython3",
   "version": "3.8.3"
  }
 },
 "nbformat": 4,
 "nbformat_minor": 4
}
