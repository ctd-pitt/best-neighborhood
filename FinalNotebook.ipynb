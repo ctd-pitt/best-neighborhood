{
 "cells": [
  {
   "cell_type": "markdown",
   "metadata": {},
   "source": [
    "# CMPINF 0010 - Fall 2023 - Final Project \n",
    "This Repository uses three seperate data sets in order to assess what the best neighborhood in Pittsburgh is for a duck to live in.\n",
    "\n",
    "## Team Ducks\n",
    "\n",
    "Tim Marshall - Tom34@pitt.edu\n",
    "\n",
    "\n",
    "## Data Sets\n",
    "All Data Sets were found through the [Western Pennsylvania Regional Data Center](https://data.wprdc.org/dataset/).\n",
    "\n",
    "**[Water Features](https://data.wprdc.org/dataset/city-water-features)** - This Data Set shows the location of all water features in the neighborhoods of Pittsburgh, shown as Decorative, Drinking Fountain, or Spray\n",
    "\n",
    "\n",
    "A one sentence overview of your repository, meant for someone who is not familiar with the project"
   ]
  },
  {
   "cell_type": "code",
   "execution_count": null,
   "metadata": {},
   "outputs": [],
   "source": []
  }
 ],
 "metadata": {
  "kernelspec": {
   "display_name": "Python 3",
   "language": "python",
   "name": "python3"
  },
  "language_info": {
   "codemirror_mode": {
    "name": "ipython",
    "version": 3
   },
   "file_extension": ".py",
   "mimetype": "text/x-python",
   "name": "python",
   "nbconvert_exporter": "python",
   "pygments_lexer": "ipython3",
   "version": "3.8.3"
  }
 },
 "nbformat": 4,
 "nbformat_minor": 4
}
